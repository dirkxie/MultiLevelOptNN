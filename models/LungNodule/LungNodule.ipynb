{
 "cells": [
  {
   "cell_type": "code",
   "execution_count": 1,
   "metadata": {
    "collapsed": true
   },
   "outputs": [],
   "source": [
    "import pickle\n",
    "import numpy as np\n",
    "import tensorflow as tf\n",
    "\n",
    "import sys\n",
    "sys.path.append('/Users/xiejunyi/Dropbox/Research/MultiLevelOptNN/util')\n",
    "sys.dont_write_bytecode = True"
   ]
  },
  {
   "cell_type": "code",
   "execution_count": 2,
   "metadata": {
    "collapsed": false
   },
   "outputs": [
    {
     "name": "stdout",
     "output_type": "stream",
     "text": [
      "data loaded\n"
     ]
    }
   ],
   "source": [
    "with open('lidc_data.pkl', 'rb') as f:\n",
    "    data = pickle.load(f)\n",
    "\n",
    "print(\"data loaded\")"
   ]
  },
  {
   "cell_type": "code",
   "execution_count": 3,
   "metadata": {
    "collapsed": false,
    "scrolled": true
   },
   "outputs": [
    {
     "name": "stdout",
     "output_type": "stream",
     "text": [
      "training img:\n",
      "(<type 'numpy.ndarray'>, (22000, 4096))\n",
      "training label:\n",
      "(<type 'numpy.ndarray'>, (22000,))\n",
      "validation img:\n",
      "(<type 'numpy.ndarray'>, (1004, 4096))\n",
      "validation label:\n",
      "(<type 'numpy.ndarray'>, (1004,))\n",
      "test img:\n",
      "(<type 'numpy.ndarray'>, (953, 4096))\n",
      "test label:\n",
      "(<type 'numpy.ndarray'>, (953,))\n"
     ]
    }
   ],
   "source": [
    "train_img = data[0][0]\n",
    "print(\"training img:\")\n",
    "print(type(train_img), train_img.shape)\n",
    "\n",
    "train_label = data[0][1]\n",
    "print(\"training label:\")\n",
    "print(type(train_label), train_label.shape)\n",
    "\n",
    "val_img = data[1][0]\n",
    "print(\"validation img:\")\n",
    "print(type(val_img), val_img.shape)\n",
    "\n",
    "val_label = data[1][1]\n",
    "print(\"validation label:\")\n",
    "print(type(val_label), val_label.shape)\n",
    "\n",
    "test_img = data[2][0]\n",
    "print(\"test img:\")\n",
    "print(type(test_img), test_img.shape)\n",
    "\n",
    "test_label = data[2][1]\n",
    "print(\"test label:\")\n",
    "print(type(test_label), test_label.shape)\n"
   ]
  },
  {
   "cell_type": "code",
   "execution_count": 4,
   "metadata": {
    "collapsed": true
   },
   "outputs": [],
   "source": [
    "# hyper parameters\n",
    "learning_rate = 0.001\n",
    "training_iters = 100000\n",
    "batch_size = 128\n",
    "display_step = 20"
   ]
  },
  {
   "cell_type": "code",
   "execution_count": 5,
   "metadata": {
    "collapsed": true
   },
   "outputs": [],
   "source": [
    "n_input = 4096\n",
    "n_classes = 2\n",
    "dropout = 0.75"
   ]
  },
  {
   "cell_type": "code",
   "execution_count": 6,
   "metadata": {
    "collapsed": false
   },
   "outputs": [],
   "source": [
    "# transform labels from number to one hot format\n",
    "num_train = train_img.shape[0]\n",
    "num_val = val_img.shape[0]\n",
    "num_test = test_img.shape[0]\n",
    "\n",
    "train_label_onehot = np.zeros([num_train, n_classes])\n",
    "for idx in range(num_train):\n",
    "    train_label_onehot[idx, train_label[idx]] = 1\n",
    "\n",
    "val_label_onehot = np.zeros([num_val, n_classes])\n",
    "for idx in range(num_val):\n",
    "    val_label_onehot[idx, val_label[idx]] = 1\n",
    "    \n",
    "test_label_onehot = np.zeros([num_test, n_classes])\n",
    "for idx in range(num_test):\n",
    "    test_label_onehot[idx, test_label[idx]] = 1"
   ]
  },
  {
   "cell_type": "code",
   "execution_count": 7,
   "metadata": {
    "collapsed": false
   },
   "outputs": [],
   "source": [
    "x = tf.placeholder(tf.float32, [None, n_input])\n",
    "y = tf.placeholder(tf.float32, [None, n_classes])\n",
    "keep_prob = tf.placeholder(tf.float32)"
   ]
  },
  {
   "cell_type": "code",
   "execution_count": 8,
   "metadata": {
    "collapsed": true
   },
   "outputs": [],
   "source": [
    "def conv2d(img, w, b):\n",
    "    return tf.nn.relu(tf.nn.bias_add(tf.nn.conv2d(img, w, strides=[1,1,1,1], padding='SAME'), b))\n",
    "\n",
    "def max_pool(img, k):\n",
    "    return tf.nn.max_pool(img, ksize=[1, k, k, 1], strides=[1, k, k, 1], padding='SAME')"
   ]
  },
  {
   "cell_type": "code",
   "execution_count": 9,
   "metadata": {
    "collapsed": false
   },
   "outputs": [],
   "source": [
    "#train_img = tf.reshape(train_img, [-1, 64, 64])\n",
    "#print('reshape input images and convert to tf.Tensor')\n",
    "#print(type(train_img), train_img.get_shape())\n",
    "\n",
    "# this function directly use default graph, later change to a function\n",
    "# that uses an input graph\n",
    "# decompose to tf basic function that has 'name' field\n",
    "def conv_net(_X, _weights, _biases, _dropout):\n",
    "    _X = tf.reshape(_X, shape=[-1,64, 64, 1])\n",
    "    print(_X.get_shape())\n",
    "    \n",
    "    # Convolution Layer\n",
    "    conv1 = conv2d(_X, _weights['wc1'], _biases['bc1'])\n",
    "    # Max Pooling (down-sampling)\n",
    "    conv1 = max_pool(conv1, k=2)\n",
    "    # Apply Dropout\n",
    "    conv1 = tf.nn.dropout(conv1, _dropout)\n",
    "    print(conv1.get_shape())\n",
    "    \n",
    "    # Convolution Layer\n",
    "    conv2 = conv2d(conv1, _weights['wc2'], _biases['bc2'])\n",
    "    # Max Pooling (down-sampling)\n",
    "    conv2 = max_pool(conv2, k=2)\n",
    "    # Apply Dropout\n",
    "    conv2 = tf.nn.dropout(conv2, _dropout)\n",
    "    print(conv2.get_shape())\n",
    "    \n",
    "    # Fully connected layer\n",
    "    # Reshape conv2 output to fit dense layer input\n",
    "    dense1 = tf.reshape(conv2, [-1, _weights['wd1'].get_shape().as_list()[0]]) \n",
    "    # Relu activation\n",
    "    dense1 = tf.nn.relu(tf.add(tf.matmul(dense1, _weights['wd1']), _biases['bd1']))\n",
    "    # Apply Dropout\n",
    "    dense1 = tf.nn.dropout(dense1, _dropout) # Apply Dropout\n",
    "    print(dense1.get_shape())\n",
    "    \n",
    "    # Output, class prediction\n",
    "    out = tf.add(tf.matmul(dense1, _weights['out']), _biases['out'])\n",
    "    print(out.get_shape())\n",
    "    return out"
   ]
  },
  {
   "cell_type": "code",
   "execution_count": 10,
   "metadata": {
    "collapsed": true
   },
   "outputs": [],
   "source": [
    "# Store layers weight & bias\n",
    "weights = {\n",
    "    # 5x5 conv, 1 input, 32 outputs\n",
    "    'wc1': tf.Variable(tf.random_normal([5, 5, 1, 32])), \n",
    "    # 5x5 conv, 32 inputs, 64 outputs\n",
    "    'wc2': tf.Variable(tf.random_normal([5, 5, 32, 64])), \n",
    "    # fully connected, 7*7*64 inputs, 1024 outputs\n",
    "    'wd1': tf.Variable(tf.random_normal([16*16*64, 1024])), \n",
    "    # 1024 inputs, 10 outputs (class prediction)\n",
    "    'out': tf.Variable(tf.random_normal([1024, n_classes])) \n",
    "}\n",
    "\n",
    "biases = {\n",
    "    'bc1': tf.Variable(tf.random_normal([32])),\n",
    "    'bc2': tf.Variable(tf.random_normal([64])),\n",
    "    'bd1': tf.Variable(tf.random_normal([1024])),\n",
    "    'out': tf.Variable(tf.random_normal([n_classes]))\n",
    "}"
   ]
  },
  {
   "cell_type": "code",
   "execution_count": 11,
   "metadata": {
    "collapsed": false
   },
   "outputs": [
    {
     "name": "stdout",
     "output_type": "stream",
     "text": [
      "(?, 64, 64, 1)\n",
      "(?, 32, 32, 32)\n",
      "(?, 16, 16, 64)\n",
      "(?, 1024)\n",
      "(?, 2)\n"
     ]
    }
   ],
   "source": [
    "# Construct model\n",
    "pred = conv_net(x, weights, biases, keep_prob)\n",
    "#print(type(pred))"
   ]
  },
  {
   "cell_type": "code",
   "execution_count": 12,
   "metadata": {
    "collapsed": true
   },
   "outputs": [],
   "source": [
    "# Define loss and optimizer\n",
    "cost = tf.reduce_mean(tf.nn.softmax_cross_entropy_with_logits(pred, y))\n",
    "optimizer = tf.train.AdamOptimizer(learning_rate=learning_rate).minimize(cost)"
   ]
  },
  {
   "cell_type": "code",
   "execution_count": 13,
   "metadata": {
    "collapsed": true
   },
   "outputs": [],
   "source": [
    "# Evaluate model\n",
    "correct_pred = tf.equal(tf.argmax(pred,1), tf.argmax(y,1))\n",
    "accuracy = tf.reduce_mean(tf.cast(correct_pred, tf.float32))"
   ]
  },
  {
   "cell_type": "code",
   "execution_count": 14,
   "metadata": {
    "collapsed": true
   },
   "outputs": [],
   "source": [
    "# Initializing the variables\n",
    "init = tf.initialize_all_variables()"
   ]
  },
  {
   "cell_type": "code",
   "execution_count": 15,
   "metadata": {
    "collapsed": false
   },
   "outputs": [],
   "source": [
    "def next_batch(batch_size, input_samples, input_labels, n_classes, fake_data=False):\n",
    "    index_in_epoch = 0\n",
    "    num_examples = input_samples.shape[0]\n",
    "    \n",
    "    if fake_data:\n",
    "        fake_image = [1.0 for _ in xrange(4096)]\n",
    "        fake_label = 0\n",
    "        return [fake_image for _ in xrange(batch_size)], [fake_label for _ in xrange(batch_size)]\n",
    "    \n",
    "    start = index_in_epoch\n",
    "    index_in_epoch += batch_size\n",
    "    \n",
    "    if index_in_epoch > num_examples:\n",
    "        # Finished epoch\n",
    "        epochs_completed += 1\n",
    "        # Shuffle the data\n",
    "        perm = np.arange(num_examples)\n",
    "        np.random.shuffle(perm)\n",
    "        input_samples = input_samples[perm]\n",
    "        input_labels = input_labels[perm]\n",
    "        # start next epoch\n",
    "        start = 0\n",
    "        index_in_epoch = batch_size\n",
    "        assert batch_size <= num_examples\n",
    "    end = index_in_epoch\n",
    "    output_samples = input_samples[start:end]\n",
    "\n",
    "    #output_labels = np.zeros([end-start, n_classes])\n",
    "    #original_labels = input_labels[start:end]\n",
    "    #\n",
    "    #for idx in range(batch_size):\n",
    "    #    output_labels[idx, original_labels[idx]] = 1\n",
    "    \n",
    "    output_labels = input_labels[start:end]\n",
    "    return output_samples, output_labels"
   ]
  },
  {
   "cell_type": "code",
   "execution_count": 1,
   "metadata": {
    "collapsed": false
   },
   "outputs": [
    {
     "ename": "NameError",
     "evalue": "name 'tf' is not defined",
     "output_type": "error",
     "traceback": [
      "\u001b[0;31m---------------------------------------------------------------------------\u001b[0m",
      "\u001b[0;31mNameError\u001b[0m                                 Traceback (most recent call last)",
      "\u001b[0;32m<ipython-input-1-006fe0edfb1a>\u001b[0m in \u001b[0;36m<module>\u001b[0;34m()\u001b[0m\n\u001b[0;32m----> 1\u001b[0;31m \u001b[0;32mwith\u001b[0m \u001b[0mtf\u001b[0m\u001b[0;34m.\u001b[0m\u001b[0mSession\u001b[0m\u001b[0;34m(\u001b[0m\u001b[0mconfig\u001b[0m\u001b[0;34m=\u001b[0m\u001b[0mtf\u001b[0m\u001b[0;34m.\u001b[0m\u001b[0mConfigProto\u001b[0m\u001b[0;34m(\u001b[0m\u001b[0mlog_device_placement\u001b[0m\u001b[0;34m=\u001b[0m\u001b[0mTrue\u001b[0m\u001b[0;34m)\u001b[0m\u001b[0;34m)\u001b[0m \u001b[0;32mas\u001b[0m \u001b[0msess\u001b[0m\u001b[0;34m:\u001b[0m\u001b[0;34m\u001b[0m\u001b[0m\n\u001b[0m\u001b[1;32m      2\u001b[0m     \u001b[0msess\u001b[0m\u001b[0;34m.\u001b[0m\u001b[0mrun\u001b[0m\u001b[0;34m(\u001b[0m\u001b[0minit\u001b[0m\u001b[0;34m)\u001b[0m\u001b[0;34m\u001b[0m\u001b[0m\n\u001b[1;32m      3\u001b[0m     \u001b[0mstep\u001b[0m \u001b[0;34m=\u001b[0m \u001b[0;36m1\u001b[0m\u001b[0;34m\u001b[0m\u001b[0m\n\u001b[1;32m      4\u001b[0m     \u001b[0;31m# Keep training until reach max iterations\u001b[0m\u001b[0;34m\u001b[0m\u001b[0;34m\u001b[0m\u001b[0m\n\u001b[1;32m      5\u001b[0m     \u001b[0;32mwhile\u001b[0m \u001b[0mstep\u001b[0m \u001b[0;34m*\u001b[0m \u001b[0mbatch_size\u001b[0m \u001b[0;34m<\u001b[0m \u001b[0mtraining_iters\u001b[0m\u001b[0;34m:\u001b[0m\u001b[0;34m\u001b[0m\u001b[0m\n",
      "\u001b[0;31mNameError\u001b[0m: name 'tf' is not defined"
     ]
    }
   ],
   "source": [
    "with tf.Session(config=tf.ConfigProto(log_device_placement=True)) as sess:\n",
    "    sess.run(init)\n",
    "    step = 1\n",
    "    # Keep training until reach max iterations\n",
    "    while step * batch_size < training_iters:\n",
    "        batch_xs, batch_ys = next_batch(batch_size, train_img, train_label_onehot, n_classes)\n",
    "        \n",
    "        #print(batch_xs.shape)\n",
    "        #print(batch_ys.shape)\n",
    "        sess.run(optimizer, feed_dict={x:batch_xs, y:batch_ys, keep_prob:dropout})\n",
    "        if step % display_step == 0:\n",
    "            # Calculate batch accuracy\n",
    "            train_acc = sess.run(accuracy, feed_dict={x:batch_xs, y:batch_ys, keep_prob:1.})\n",
    "            # Calculate batch loss\n",
    "            loss = sess.run(cost, feed_dict={x: batch_xs, y: batch_ys, keep_prob: 1.})\n",
    "            print \"Iter \" + str(step*batch_size) + \", Minibatch Loss= \" + \\\n",
    "                \"{:.6f}\".format(loss) + \", Training Accuracy= \" + \"{:.5f}\".format(train_acc)\n",
    "            \n",
    "            val_acc = sess.run(accuracy, feed_dict={x: val_img, y: val_label_onehot, keep_prob:1.})\n",
    "            print \"Validation Accuracy= \" + \"{:.5f}\".format(val_acc)\n",
    "        step += 1\n",
    "    print \"Optimization Finished!\"\n",
    "    \n",
    "    print \"Testing Accuracy= \", sess.run(accuracy, feed_dict={x: test_img, y: test_label_onehot, keep_prob:1.})"
   ]
  },
  {
   "cell_type": "code",
   "execution_count": null,
   "metadata": {
    "collapsed": true
   },
   "outputs": [],
   "source": []
  }
 ],
 "metadata": {
  "anaconda-cloud": {},
  "kernelspec": {
   "display_name": "Python [conda root]",
   "language": "python",
   "name": "conda-root-py"
  },
  "language_info": {
   "codemirror_mode": {
    "name": "ipython",
    "version": 2
   },
   "file_extension": ".py",
   "mimetype": "text/x-python",
   "name": "python",
   "nbconvert_exporter": "python",
   "pygments_lexer": "ipython2",
   "version": "2.7.12"
  }
 },
 "nbformat": 4,
 "nbformat_minor": 1
}

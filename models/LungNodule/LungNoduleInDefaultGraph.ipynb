{
 "cells": [
  {
   "cell_type": "code",
   "execution_count": 1,
   "metadata": {
    "collapsed": true
   },
   "outputs": [],
   "source": [
    "import pickle\n",
    "import numpy as np\n",
    "import tensorflow as tf\n",
    "\n",
    "import sys\n",
    "sys.path.append('/Users/xiejunyi/Dropbox/Research/MultiLevelOptNN/util')\n",
    "sys.dont_write_bytecode = True"
   ]
  },
  {
   "cell_type": "code",
   "execution_count": 2,
   "metadata": {
    "collapsed": false
   },
   "outputs": [
    {
     "name": "stdout",
     "output_type": "stream",
     "text": [
      "data loaded\n"
     ]
    }
   ],
   "source": [
    "with open('lidc_data.pkl', 'rb') as f:\n",
    "    data = pickle.load(f)\n",
    "\n",
    "print(\"data loaded\")"
   ]
  },
  {
   "cell_type": "code",
   "execution_count": 3,
   "metadata": {
    "collapsed": false,
    "scrolled": true
   },
   "outputs": [
    {
     "name": "stdout",
     "output_type": "stream",
     "text": [
      "training img:\n",
      "(<type 'numpy.ndarray'>, (22000, 4096))\n",
      "training label:\n",
      "(<type 'numpy.ndarray'>, (22000,))\n",
      "validation img:\n",
      "(<type 'numpy.ndarray'>, (1004, 4096))\n",
      "validation label:\n",
      "(<type 'numpy.ndarray'>, (1004,))\n",
      "test img:\n",
      "(<type 'numpy.ndarray'>, (953, 4096))\n",
      "test label:\n",
      "(<type 'numpy.ndarray'>, (953,))\n"
     ]
    }
   ],
   "source": [
    "train_img = data[0][0]\n",
    "print(\"training img:\")\n",
    "print(type(train_img), train_img.shape)\n",
    "\n",
    "train_label = data[0][1]\n",
    "print(\"training label:\")\n",
    "print(type(train_label), train_label.shape)\n",
    "\n",
    "val_img = data[1][0]\n",
    "print(\"validation img:\")\n",
    "print(type(val_img), val_img.shape)\n",
    "\n",
    "val_label = data[1][1]\n",
    "print(\"validation label:\")\n",
    "print(type(val_label), val_label.shape)\n",
    "\n",
    "test_img = data[2][0]\n",
    "print(\"test img:\")\n",
    "print(type(test_img), test_img.shape)\n",
    "\n",
    "test_label = data[2][1]\n",
    "print(\"test label:\")\n",
    "print(type(test_label), test_label.shape)"
   ]
  },
  {
   "cell_type": "code",
   "execution_count": 4,
   "metadata": {
    "collapsed": false
   },
   "outputs": [],
   "source": [
    "# hyper parameters\n",
    "learning_rate = 0.0003\n",
    "training_iters = 100000\n",
    "batch_size = 128\n",
    "display_step = 10"
   ]
  },
  {
   "cell_type": "code",
   "execution_count": 5,
   "metadata": {
    "collapsed": true
   },
   "outputs": [],
   "source": [
    "n_input = 4096\n",
    "n_classes = 2\n",
    "dropout = 0.75"
   ]
  },
  {
   "cell_type": "code",
   "execution_count": 6,
   "metadata": {
    "collapsed": false
   },
   "outputs": [],
   "source": [
    "# transform labels from number to one hot format\n",
    "num_train = train_img.shape[0]\n",
    "num_val = val_img.shape[0]\n",
    "num_test = test_img.shape[0]\n",
    "\n",
    "train_label_onehot = np.zeros([num_train, n_classes])\n",
    "for idx in range(num_train):\n",
    "    train_label_onehot[idx, train_label[idx]] = 1\n",
    "\n",
    "val_label_onehot = np.zeros([num_val, n_classes])\n",
    "for idx in range(num_val):\n",
    "    val_label_onehot[idx, val_label[idx]] = 1\n",
    "    \n",
    "test_label_onehot = np.zeros([num_test, n_classes])\n",
    "for idx in range(num_test):\n",
    "    test_label_onehot[idx, test_label[idx]] = 1"
   ]
  },
  {
   "cell_type": "code",
   "execution_count": 7,
   "metadata": {
    "collapsed": false
   },
   "outputs": [],
   "source": [
    "x = tf.placeholder(tf.float32, [None, n_input])\n",
    "y = tf.placeholder(tf.float32, [None, n_classes])\n",
    "keep_prob = tf.placeholder(tf.float32)"
   ]
  },
  {
   "cell_type": "code",
   "execution_count": 8,
   "metadata": {
    "collapsed": false
   },
   "outputs": [],
   "source": [
    "# Store layers weight & bias\n",
    "weights = {\n",
    "    # 5x5 conv, 1 input, 32 outputs\n",
    "    'wc1': tf.Variable(tf.random_normal([5, 5, 1, 32])), \n",
    "    # 5x5 conv, 32 inputs, 64 outputs\n",
    "    'wc2': tf.Variable(tf.random_normal([5, 5, 32, 64])), \n",
    "    # fully connected, 16*16*64 inputs, 1024 outputs\n",
    "    'wd1': tf.Variable(tf.random_normal([16*16*64, 1024])), \n",
    "    # 1024 inputs, 2 outputs (class prediction)\n",
    "    'out': tf.Variable(tf.random_normal([1024, n_classes])) \n",
    "}\n",
    "\n",
    "biases = {\n",
    "    'bc1': tf.Variable(tf.random_normal([32])),\n",
    "    'bc2': tf.Variable(tf.random_normal([64])),\n",
    "    'bd1': tf.Variable(tf.random_normal([1024])),\n",
    "    'out': tf.Variable(tf.random_normal([n_classes]))\n",
    "}"
   ]
  },
  {
   "cell_type": "code",
   "execution_count": 9,
   "metadata": {
    "collapsed": true
   },
   "outputs": [],
   "source": [
    "def conv_net_graph(_X, _weights, _biases, _dropout):\n",
    "    _X = tf.reshape(_X, shape=[-1, 64, 64, 1])\n",
    "    conv1 = tf.nn.conv2d(_X, _weights['wc1'], strides=[1,1,1,1], padding='SAME', name='conv1')\n",
    "    bias1 = tf.nn.bias_add(conv1, _biases['bc1'], name='bias1')\n",
    "    relu1 = tf.nn.relu(bias1, name='relu1')\n",
    "    pool1 = tf.nn.max_pool(relu1, ksize=[1,2,2,1], strides = [1,2,2,1], padding='SAME', name='pool1')\n",
    "    drop1 = tf.nn.dropout(pool1, _dropout, name='drop1')\n",
    "    \n",
    "    conv2 = tf.nn.conv2d(drop1, _weights['wc2'], strides=[1,1,1,1], padding='SAME', name='conv2')\n",
    "    bias2 = tf.nn.bias_add(conv2, _biases['bc2'], name='bias2')\n",
    "    relu2 = tf.nn.relu(bias2, name='relu2')\n",
    "    pool2 = tf.nn.max_pool(relu2, ksize=[1,2,2,1], strides = [1,2,2,1], padding='SAME', name='pool2')\n",
    "    drop2 = tf.nn.dropout(pool2, _dropout, name='drop2')\n",
    "    \n",
    "    drop2_flatten = tf.reshape(drop2, [-1, _weights['wd1'].get_shape().as_list()[0]])\n",
    "    \n",
    "    fc3   = tf.matmul(drop2_flatten, _weights['wd1'], name='fc3')\n",
    "    bias3 = tf.add(fc3, _biases['bd1'])\n",
    "    relu3 = tf.nn.relu(bias3, name='relu3')\n",
    "    drop3 = tf.nn.dropout(relu3, _dropout, name='drop3')\n",
    "    \n",
    "    fc4   = tf.matmul(drop3, _weights['out'], name='fc4')\n",
    "    bias4 = tf.add(fc4, _biases['out'], name='bias4')\n",
    "    \n",
    "    out = bias4\n",
    "    return out"
   ]
  },
  {
   "cell_type": "code",
   "execution_count": 10,
   "metadata": {
    "collapsed": false
   },
   "outputs": [],
   "source": [
    "# Construct model\n",
    "pred = conv_net_graph(x, weights, biases, keep_prob)\n",
    "#print(type(pred))"
   ]
  },
  {
   "cell_type": "code",
   "execution_count": 11,
   "metadata": {
    "collapsed": true
   },
   "outputs": [],
   "source": [
    "# Define loss and optimizer\n",
    "cost = tf.reduce_mean(tf.nn.softmax_cross_entropy_with_logits(pred, y))\n",
    "optimizer = tf.train.AdamOptimizer(learning_rate=learning_rate).minimize(cost)"
   ]
  },
  {
   "cell_type": "code",
   "execution_count": 12,
   "metadata": {
    "collapsed": true
   },
   "outputs": [],
   "source": [
    "# Evaluate model\n",
    "correct_pred = tf.equal(tf.argmax(pred,1), tf.argmax(y,1))\n",
    "accuracy = tf.reduce_mean(tf.cast(correct_pred, tf.float32))"
   ]
  },
  {
   "cell_type": "code",
   "execution_count": 13,
   "metadata": {
    "collapsed": true
   },
   "outputs": [],
   "source": [
    "# Initializing the variables\n",
    "init = tf.initialize_all_variables()"
   ]
  },
  {
   "cell_type": "code",
   "execution_count": 14,
   "metadata": {
    "collapsed": false
   },
   "outputs": [],
   "source": [
    "def next_batch(batch_size, input_samples, input_labels, n_classes, fake_data=False):\n",
    "    index_in_epoch = 0\n",
    "    num_examples = input_samples.shape[0]\n",
    "    \n",
    "    if fake_data:\n",
    "        fake_image = [1.0 for _ in xrange(4096)]\n",
    "        fake_label = 0\n",
    "        return [fake_image for _ in xrange(batch_size)], [fake_label for _ in xrange(batch_size)]\n",
    "    \n",
    "    start = index_in_epoch\n",
    "    index_in_epoch += batch_size\n",
    "    \n",
    "    if index_in_epoch > num_examples:\n",
    "        # Finished epoch\n",
    "        epochs_completed += 1\n",
    "        # Shuffle the data\n",
    "        perm = np.arange(num_examples)\n",
    "        np.random.shuffle(perm)\n",
    "        input_samples = input_samples[perm]\n",
    "        input_labels = input_labels[perm]\n",
    "        # start next epoch\n",
    "        start = 0\n",
    "        index_in_epoch = batch_size\n",
    "        assert batch_size <= num_examples\n",
    "    end = index_in_epoch\n",
    "    output_samples = input_samples[start:end]\n",
    "\n",
    "    #output_labels = np.zeros([end-start, n_classes])\n",
    "    #original_labels = input_labels[start:end]\n",
    "    #\n",
    "    #for idx in range(batch_size):\n",
    "    #    output_labels[idx, original_labels[idx]] = 1\n",
    "    \n",
    "    output_labels = input_labels[start:end]\n",
    "    return output_samples, output_labels"
   ]
  },
  {
   "cell_type": "code",
   "execution_count": 15,
   "metadata": {
    "collapsed": false
   },
   "outputs": [
    {
     "name": "stdout",
     "output_type": "stream",
     "text": [
      "Iter 1280, Minibatch Loss= 4739.715332, Training Accuracy= 0.69531\n",
      "Validation Accuracy= 0.61653\n",
      "Testing Accuracy=  0.63064\n",
      "Iter 2560, Minibatch Loss= 12460.481445, Training Accuracy= 0.64062\n",
      "Validation Accuracy= 0.58865\n",
      "Testing Accuracy=  0.566632\n",
      "Iter 3840, Minibatch Loss= 9848.937500, Training Accuracy= 0.67188\n",
      "Validation Accuracy= 0.62649\n",
      "Testing Accuracy=  0.632739\n",
      "Iter 5120, Minibatch Loss= 9481.997070, Training Accuracy= 0.67969\n",
      "Validation Accuracy= 0.65040\n",
      "Testing Accuracy=  0.652676\n",
      "Iter 6400, Minibatch Loss= 7892.372070, Training Accuracy= 0.71094\n",
      "Validation Accuracy= 0.67530\n",
      "Testing Accuracy=  0.70829\n",
      "Iter 7680, Minibatch Loss= 6804.294434, Training Accuracy= 0.73438\n",
      "Validation Accuracy= 0.69821\n",
      "Testing Accuracy=  0.731375\n",
      "Iter 8960, Minibatch Loss= 5066.767578, Training Accuracy= 0.76562\n",
      "Validation Accuracy= 0.74402\n",
      "Testing Accuracy=  0.749213\n",
      "Iter 10240, Minibatch Loss= 4584.107910, Training Accuracy= 0.80469\n",
      "Validation Accuracy= 0.76096\n",
      "Testing Accuracy=  0.761805\n",
      "Iter 11520, Minibatch Loss= 4319.272461, Training Accuracy= 0.81250\n",
      "Validation Accuracy= 0.77490\n",
      "Testing Accuracy=  0.772298\n",
      "Iter 12800, Minibatch Loss= 3894.807617, Training Accuracy= 0.85156\n",
      "Validation Accuracy= 0.79283\n",
      "Testing Accuracy=  0.789087\n",
      "Iter 14080, Minibatch Loss= 2625.042480, Training Accuracy= 0.86719\n",
      "Validation Accuracy= 0.82869\n",
      "Testing Accuracy=  0.819517\n",
      "Iter 15360, Minibatch Loss= 3236.417480, Training Accuracy= 0.86719\n",
      "Validation Accuracy= 0.82171\n",
      "Testing Accuracy=  0.807975\n",
      "Iter 16640, Minibatch Loss= 2398.364746, Training Accuracy= 0.90625\n",
      "Validation Accuracy= 0.83765\n",
      "Testing Accuracy=  0.823715\n",
      "Iter 17920, Minibatch Loss= 2309.200439, Training Accuracy= 0.92188\n",
      "Validation Accuracy= 0.84462\n",
      "Testing Accuracy=  0.832109\n",
      "Iter 19200, Minibatch Loss= 2898.046387, Training Accuracy= 0.86719\n",
      "Validation Accuracy= 0.83267\n",
      "Testing Accuracy=  0.820567\n",
      "Iter 20480, Minibatch Loss= 2125.899902, Training Accuracy= 0.92188\n",
      "Validation Accuracy= 0.85458\n",
      "Testing Accuracy=  0.847849\n",
      "Iter 21760, Minibatch Loss= 2066.120117, Training Accuracy= 0.92188\n",
      "Validation Accuracy= 0.85857\n",
      "Testing Accuracy=  0.850997\n",
      "Iter 23040, Minibatch Loss= 2048.552734, Training Accuracy= 0.92188\n",
      "Validation Accuracy= 0.85857\n",
      "Testing Accuracy=  0.852046\n",
      "Iter 24320, Minibatch Loss= 1959.774658, Training Accuracy= 0.93750\n",
      "Validation Accuracy= 0.86753\n",
      "Testing Accuracy=  0.860441\n",
      "Iter 25600, Minibatch Loss= 2018.797607, Training Accuracy= 0.92969\n",
      "Validation Accuracy= 0.86255\n",
      "Testing Accuracy=  0.855194\n"
     ]
    },
    {
     "ename": "KeyboardInterrupt",
     "evalue": "",
     "output_type": "error",
     "traceback": [
      "\u001b[0;31m---------------------------------------------------------------------------\u001b[0m",
      "\u001b[0;31mKeyboardInterrupt\u001b[0m                         Traceback (most recent call last)",
      "\u001b[0;32m<ipython-input-15-5f9cbacfa1ab>\u001b[0m in \u001b[0;36m<module>\u001b[0;34m()\u001b[0m\n\u001b[1;32m      8\u001b[0m         \u001b[0;31m#print(batch_xs.shape)\u001b[0m\u001b[0;34m\u001b[0m\u001b[0;34m\u001b[0m\u001b[0m\n\u001b[1;32m      9\u001b[0m         \u001b[0;31m#print(batch_ys.shape)\u001b[0m\u001b[0;34m\u001b[0m\u001b[0;34m\u001b[0m\u001b[0m\n\u001b[0;32m---> 10\u001b[0;31m         \u001b[0msess\u001b[0m\u001b[0;34m.\u001b[0m\u001b[0mrun\u001b[0m\u001b[0;34m(\u001b[0m\u001b[0moptimizer\u001b[0m\u001b[0;34m,\u001b[0m \u001b[0mfeed_dict\u001b[0m\u001b[0;34m=\u001b[0m\u001b[0;34m{\u001b[0m\u001b[0mx\u001b[0m\u001b[0;34m:\u001b[0m\u001b[0mbatch_xs\u001b[0m\u001b[0;34m,\u001b[0m \u001b[0my\u001b[0m\u001b[0;34m:\u001b[0m\u001b[0mbatch_ys\u001b[0m\u001b[0;34m,\u001b[0m \u001b[0mkeep_prob\u001b[0m\u001b[0;34m:\u001b[0m\u001b[0mdropout\u001b[0m\u001b[0;34m}\u001b[0m\u001b[0;34m)\u001b[0m\u001b[0;34m\u001b[0m\u001b[0m\n\u001b[0m\u001b[1;32m     11\u001b[0m         \u001b[0;32mif\u001b[0m \u001b[0mstep\u001b[0m \u001b[0;34m%\u001b[0m \u001b[0mdisplay_step\u001b[0m \u001b[0;34m==\u001b[0m \u001b[0;36m0\u001b[0m\u001b[0;34m:\u001b[0m\u001b[0;34m\u001b[0m\u001b[0m\n\u001b[1;32m     12\u001b[0m             \u001b[0;31m# Calculate batch accuracy\u001b[0m\u001b[0;34m\u001b[0m\u001b[0;34m\u001b[0m\u001b[0m\n",
      "\u001b[0;32m/Users/xiejunyi/anaconda2/lib/python2.7/site-packages/tensorflow/python/client/session.pyc\u001b[0m in \u001b[0;36mrun\u001b[0;34m(self, fetches, feed_dict, options, run_metadata)\u001b[0m\n\u001b[1;32m    715\u001b[0m     \u001b[0;32mtry\u001b[0m\u001b[0;34m:\u001b[0m\u001b[0;34m\u001b[0m\u001b[0m\n\u001b[1;32m    716\u001b[0m       result = self._run(None, fetches, feed_dict, options_ptr,\n\u001b[0;32m--> 717\u001b[0;31m                          run_metadata_ptr)\n\u001b[0m\u001b[1;32m    718\u001b[0m       \u001b[0;32mif\u001b[0m \u001b[0mrun_metadata\u001b[0m\u001b[0;34m:\u001b[0m\u001b[0;34m\u001b[0m\u001b[0m\n\u001b[1;32m    719\u001b[0m         \u001b[0mproto_data\u001b[0m \u001b[0;34m=\u001b[0m \u001b[0mtf_session\u001b[0m\u001b[0;34m.\u001b[0m\u001b[0mTF_GetBuffer\u001b[0m\u001b[0;34m(\u001b[0m\u001b[0mrun_metadata_ptr\u001b[0m\u001b[0;34m)\u001b[0m\u001b[0;34m\u001b[0m\u001b[0m\n",
      "\u001b[0;32m/Users/xiejunyi/anaconda2/lib/python2.7/site-packages/tensorflow/python/client/session.pyc\u001b[0m in \u001b[0;36m_run\u001b[0;34m(self, handle, fetches, feed_dict, options, run_metadata)\u001b[0m\n\u001b[1;32m    913\u001b[0m     \u001b[0;32mif\u001b[0m \u001b[0mfinal_fetches\u001b[0m \u001b[0;32mor\u001b[0m \u001b[0mfinal_targets\u001b[0m\u001b[0;34m:\u001b[0m\u001b[0;34m\u001b[0m\u001b[0m\n\u001b[1;32m    914\u001b[0m       results = self._do_run(handle, final_targets, final_fetches,\n\u001b[0;32m--> 915\u001b[0;31m                              feed_dict_string, options, run_metadata)\n\u001b[0m\u001b[1;32m    916\u001b[0m     \u001b[0;32melse\u001b[0m\u001b[0;34m:\u001b[0m\u001b[0;34m\u001b[0m\u001b[0m\n\u001b[1;32m    917\u001b[0m       \u001b[0mresults\u001b[0m \u001b[0;34m=\u001b[0m \u001b[0;34m[\u001b[0m\u001b[0;34m]\u001b[0m\u001b[0;34m\u001b[0m\u001b[0m\n",
      "\u001b[0;32m/Users/xiejunyi/anaconda2/lib/python2.7/site-packages/tensorflow/python/client/session.pyc\u001b[0m in \u001b[0;36m_do_run\u001b[0;34m(self, handle, target_list, fetch_list, feed_dict, options, run_metadata)\u001b[0m\n\u001b[1;32m    963\u001b[0m     \u001b[0;32mif\u001b[0m \u001b[0mhandle\u001b[0m \u001b[0;32mis\u001b[0m \u001b[0mNone\u001b[0m\u001b[0;34m:\u001b[0m\u001b[0;34m\u001b[0m\u001b[0m\n\u001b[1;32m    964\u001b[0m       return self._do_call(_run_fn, self._session, feed_dict, fetch_list,\n\u001b[0;32m--> 965\u001b[0;31m                            target_list, options, run_metadata)\n\u001b[0m\u001b[1;32m    966\u001b[0m     \u001b[0;32melse\u001b[0m\u001b[0;34m:\u001b[0m\u001b[0;34m\u001b[0m\u001b[0m\n\u001b[1;32m    967\u001b[0m       return self._do_call(_prun_fn, self._session, handle, feed_dict,\n",
      "\u001b[0;32m/Users/xiejunyi/anaconda2/lib/python2.7/site-packages/tensorflow/python/client/session.pyc\u001b[0m in \u001b[0;36m_do_call\u001b[0;34m(self, fn, *args)\u001b[0m\n\u001b[1;32m    970\u001b[0m   \u001b[0;32mdef\u001b[0m \u001b[0m_do_call\u001b[0m\u001b[0;34m(\u001b[0m\u001b[0mself\u001b[0m\u001b[0;34m,\u001b[0m \u001b[0mfn\u001b[0m\u001b[0;34m,\u001b[0m \u001b[0;34m*\u001b[0m\u001b[0margs\u001b[0m\u001b[0;34m)\u001b[0m\u001b[0;34m:\u001b[0m\u001b[0;34m\u001b[0m\u001b[0m\n\u001b[1;32m    971\u001b[0m     \u001b[0;32mtry\u001b[0m\u001b[0;34m:\u001b[0m\u001b[0;34m\u001b[0m\u001b[0m\n\u001b[0;32m--> 972\u001b[0;31m       \u001b[0;32mreturn\u001b[0m \u001b[0mfn\u001b[0m\u001b[0;34m(\u001b[0m\u001b[0;34m*\u001b[0m\u001b[0margs\u001b[0m\u001b[0;34m)\u001b[0m\u001b[0;34m\u001b[0m\u001b[0m\n\u001b[0m\u001b[1;32m    973\u001b[0m     \u001b[0;32mexcept\u001b[0m \u001b[0merrors\u001b[0m\u001b[0;34m.\u001b[0m\u001b[0mOpError\u001b[0m \u001b[0;32mas\u001b[0m \u001b[0me\u001b[0m\u001b[0;34m:\u001b[0m\u001b[0;34m\u001b[0m\u001b[0m\n\u001b[1;32m    974\u001b[0m       \u001b[0mmessage\u001b[0m \u001b[0;34m=\u001b[0m \u001b[0mcompat\u001b[0m\u001b[0;34m.\u001b[0m\u001b[0mas_text\u001b[0m\u001b[0;34m(\u001b[0m\u001b[0me\u001b[0m\u001b[0;34m.\u001b[0m\u001b[0mmessage\u001b[0m\u001b[0;34m)\u001b[0m\u001b[0;34m\u001b[0m\u001b[0m\n",
      "\u001b[0;32m/Users/xiejunyi/anaconda2/lib/python2.7/site-packages/tensorflow/python/client/session.pyc\u001b[0m in \u001b[0;36m_run_fn\u001b[0;34m(session, feed_dict, fetch_list, target_list, options, run_metadata)\u001b[0m\n\u001b[1;32m    952\u001b[0m         return tf_session.TF_Run(session, options,\n\u001b[1;32m    953\u001b[0m                                  \u001b[0mfeed_dict\u001b[0m\u001b[0;34m,\u001b[0m \u001b[0mfetch_list\u001b[0m\u001b[0;34m,\u001b[0m \u001b[0mtarget_list\u001b[0m\u001b[0;34m,\u001b[0m\u001b[0;34m\u001b[0m\u001b[0m\n\u001b[0;32m--> 954\u001b[0;31m                                  status, run_metadata)\n\u001b[0m\u001b[1;32m    955\u001b[0m \u001b[0;34m\u001b[0m\u001b[0m\n\u001b[1;32m    956\u001b[0m     \u001b[0;32mdef\u001b[0m \u001b[0m_prun_fn\u001b[0m\u001b[0;34m(\u001b[0m\u001b[0msession\u001b[0m\u001b[0;34m,\u001b[0m \u001b[0mhandle\u001b[0m\u001b[0;34m,\u001b[0m \u001b[0mfeed_dict\u001b[0m\u001b[0;34m,\u001b[0m \u001b[0mfetch_list\u001b[0m\u001b[0;34m)\u001b[0m\u001b[0;34m:\u001b[0m\u001b[0;34m\u001b[0m\u001b[0m\n",
      "\u001b[0;31mKeyboardInterrupt\u001b[0m: "
     ]
    }
   ],
   "source": [
    "with tf.Session(config=tf.ConfigProto(log_device_placement=True)) as sess:\n",
    "    sess.run(init)\n",
    "    step = 1\n",
    "    # Keep training until reach max iterations\n",
    "    while step * batch_size < training_iters:\n",
    "        batch_xs, batch_ys = next_batch(batch_size, train_img, train_label_onehot, n_classes)\n",
    "        \n",
    "        #print(batch_xs.shape)\n",
    "        #print(batch_ys.shape)\n",
    "        sess.run(optimizer, feed_dict={x:batch_xs, y:batch_ys, keep_prob:dropout})\n",
    "        if step % display_step == 0:\n",
    "            # Calculate batch accuracy\n",
    "            train_acc = sess.run(accuracy, feed_dict={x:batch_xs, y:batch_ys, keep_prob:1.})\n",
    "            # Calculate batch loss\n",
    "            loss = sess.run(cost, feed_dict={x: batch_xs, y: batch_ys, keep_prob: 1.})\n",
    "            print \"Iter \" + str(step*batch_size) + \", Minibatch Loss= \" + \\\n",
    "                \"{:.6f}\".format(loss) + \", Training Accuracy= \" + \"{:.5f}\".format(train_acc)\n",
    "            \n",
    "            val_acc = sess.run(accuracy, feed_dict={x: val_img, y: val_label_onehot, keep_prob:1.})\n",
    "            print \"Validation Accuracy= \" + \"{:.5f}\".format(val_acc)\n",
    "            print \"Testing Accuracy= \", sess.run(accuracy, feed_dict={x: test_img, y: test_label_onehot, keep_prob:1.})        \n",
    "        step += 1\n",
    "    print \"Optimization Finished!\""
   ]
  },
  {
   "cell_type": "code",
   "execution_count": null,
   "metadata": {
    "collapsed": true
   },
   "outputs": [],
   "source": []
  }
 ],
 "metadata": {
  "anaconda-cloud": {},
  "kernelspec": {
   "display_name": "Python [conda root]",
   "language": "python",
   "name": "conda-root-py"
  },
  "language_info": {
   "codemirror_mode": {
    "name": "ipython",
    "version": 2
   },
   "file_extension": ".py",
   "mimetype": "text/x-python",
   "name": "python",
   "nbconvert_exporter": "python",
   "pygments_lexer": "ipython2",
   "version": "2.7.12"
  }
 },
 "nbformat": 4,
 "nbformat_minor": 1
}
